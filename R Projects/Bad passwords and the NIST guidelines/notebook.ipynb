{
 "cells": [
  {
   "cell_type": "markdown",
   "metadata": {
    "dc": {
     "key": "4"
    },
    "deletable": false,
    "editable": false,
    "run_control": {
     "frozen": true
    },
    "tags": [
     "context"
    ]
   },
   "source": [
    "## 1. The NIST Special Publication 800-63B\n",
    "<p>If you – 50 years ago – needed to come up with a secret password you were probably part of a secret espionage organization or (more likely) you were pretending to be a spy when playing as a kid. Today, many of us are forced to come up with new passwords <em>all the time</em> when signing into sites and apps. As a password <em>inventeur</em> it is your responsibility to come up with good, hard-to-crack passwords. But it is also in the interest of sites and apps to make sure that you use good passwords. The problem is that it's really hard to define what makes a good password. However, <em>the National Institute of Standards and Technology</em> (NIST) knows what the second best thing is: To make sure you're at least not using a <em>bad</em> password. </p>\n",
    "<p>In this notebook, we will go through the rules in <a href=\"https://pages.nist.gov/800-63-3/sp800-63b.html\">NIST Special Publication 800-63B</a> which details what checks a <em>verifier</em> (what the NIST calls a second party responsible for storing and verifying passwords) should perform to make sure users don't pick bad passwords. We will go through the passwords of users from a fictional company and use R to flag the users with bad passwords. But us being able to do this already means the fictional company is breaking one of the rules of 800-63B:</p>\n",
    "<blockquote>\n",
    "  <p>Verifiers SHALL store memorized secrets in a form that is resistant to offline attacks. Memorized secrets SHALL be salted and hashed using a suitable one-way key derivation function.</p>\n",
    "</blockquote>\n",
    "<p>That is, never save users' passwords in plaintext, always encrypt the passwords! Keeping this in mind for the next time we're building a password management system, let's load in the data.</p>\n",
    "<p><em>Warning: The list of passwords and the fictional user database both contain <strong>real</strong> passwords leaked from <strong>real</strong> websites. These passwords have not been filtered in any way and include words that are explicit, derogatory and offensive.</em></p>"
   ]
  },
  {
   "cell_type": "code",
   "execution_count": 168,
   "metadata": {
    "dc": {
     "key": "4"
    },
    "tags": [
     "sample_code"
    ]
   },
   "outputs": [
    {
     "name": "stderr",
     "output_type": "stream",
     "text": [
      "Parsed with column specification:\n",
      "cols(\n",
      "  id = \u001b[32mcol_double()\u001b[39m,\n",
      "  user_name = \u001b[31mcol_character()\u001b[39m,\n",
      "  password = \u001b[31mcol_character()\u001b[39m\n",
      ")\n"
     ]
    },
    {
     "data": {
      "text/html": [
       "<table>\n",
       "<caption>A spec_tbl_df: 1 x 1</caption>\n",
       "<thead>\n",
       "\t<tr><th scope=col>n</th></tr>\n",
       "\t<tr><th scope=col>&lt;int&gt;</th></tr>\n",
       "</thead>\n",
       "<tbody>\n",
       "\t<tr><td>982</td></tr>\n",
       "</tbody>\n",
       "</table>\n"
      ],
      "text/latex": [
       "A spec_tbl_df: 1 x 1\n",
       "\\begin{tabular}{r|l}\n",
       " n\\\\\n",
       " <int>\\\\\n",
       "\\hline\n",
       "\t 982\\\\\n",
       "\\end{tabular}\n"
      ],
      "text/markdown": [
       "\n",
       "A spec_tbl_df: 1 x 1\n",
       "\n",
       "| n &lt;int&gt; |\n",
       "|---|\n",
       "| 982 |\n",
       "\n"
      ],
      "text/plain": [
       "  n  \n",
       "1 982"
      ]
     },
     "metadata": {},
     "output_type": "display_data"
    },
    {
     "data": {
      "text/html": [
       "<table>\n",
       "<caption>A tibble: 12 x 3</caption>\n",
       "<thead>\n",
       "\t<tr><th scope=col>id</th><th scope=col>user_name</th><th scope=col>password</th></tr>\n",
       "\t<tr><th scope=col>&lt;dbl&gt;</th><th scope=col>&lt;chr&gt;</th><th scope=col>&lt;chr&gt;</th></tr>\n",
       "</thead>\n",
       "<tbody>\n",
       "\t<tr><td> 1</td><td>vance.jennings  </td><td>joobheco        </td></tr>\n",
       "\t<tr><td> 2</td><td>consuelo.eaton  </td><td>0869347314      </td></tr>\n",
       "\t<tr><td> 3</td><td>mitchel.perkins </td><td>fabypotter      </td></tr>\n",
       "\t<tr><td> 4</td><td>odessa.vaughan  </td><td>aharney88       </td></tr>\n",
       "\t<tr><td> 5</td><td>araceli.wilder  </td><td>acecdn3000      </td></tr>\n",
       "\t<tr><td> 6</td><td>shawn.harrington</td><td>5278049         </td></tr>\n",
       "\t<tr><td> 7</td><td>evelyn.gay      </td><td>master          </td></tr>\n",
       "\t<tr><td> 8</td><td>noreen.hale     </td><td>murphy          </td></tr>\n",
       "\t<tr><td> 9</td><td>gladys.ward     </td><td>lwsves2         </td></tr>\n",
       "\t<tr><td>10</td><td>brant.zimmerman </td><td>1190KAREN5572497</td></tr>\n",
       "\t<tr><td>11</td><td>leanna.abbott   </td><td>aivlys24        </td></tr>\n",
       "\t<tr><td>12</td><td>milford.hubbard </td><td>hubbard         </td></tr>\n",
       "</tbody>\n",
       "</table>\n"
      ],
      "text/latex": [
       "A tibble: 12 x 3\n",
       "\\begin{tabular}{r|lll}\n",
       " id & user\\_name & password\\\\\n",
       " <dbl> & <chr> & <chr>\\\\\n",
       "\\hline\n",
       "\t  1 & vance.jennings   & joobheco        \\\\\n",
       "\t  2 & consuelo.eaton   & 0869347314      \\\\\n",
       "\t  3 & mitchel.perkins  & fabypotter      \\\\\n",
       "\t  4 & odessa.vaughan   & aharney88       \\\\\n",
       "\t  5 & araceli.wilder   & acecdn3000      \\\\\n",
       "\t  6 & shawn.harrington & 5278049         \\\\\n",
       "\t  7 & evelyn.gay       & master          \\\\\n",
       "\t  8 & noreen.hale      & murphy          \\\\\n",
       "\t  9 & gladys.ward      & lwsves2         \\\\\n",
       "\t 10 & brant.zimmerman  & 1190KAREN5572497\\\\\n",
       "\t 11 & leanna.abbott    & aivlys24        \\\\\n",
       "\t 12 & milford.hubbard  & hubbard         \\\\\n",
       "\\end{tabular}\n"
      ],
      "text/markdown": [
       "\n",
       "A tibble: 12 x 3\n",
       "\n",
       "| id &lt;dbl&gt; | user_name &lt;chr&gt; | password &lt;chr&gt; |\n",
       "|---|---|---|\n",
       "|  1 | vance.jennings   | joobheco         |\n",
       "|  2 | consuelo.eaton   | 0869347314       |\n",
       "|  3 | mitchel.perkins  | fabypotter       |\n",
       "|  4 | odessa.vaughan   | aharney88        |\n",
       "|  5 | araceli.wilder   | acecdn3000       |\n",
       "|  6 | shawn.harrington | 5278049          |\n",
       "|  7 | evelyn.gay       | master           |\n",
       "|  8 | noreen.hale      | murphy           |\n",
       "|  9 | gladys.ward      | lwsves2          |\n",
       "| 10 | brant.zimmerman  | 1190KAREN5572497 |\n",
       "| 11 | leanna.abbott    | aivlys24         |\n",
       "| 12 | milford.hubbard  | hubbard          |\n",
       "\n"
      ],
      "text/plain": [
       "   id user_name        password        \n",
       "1   1 vance.jennings   joobheco        \n",
       "2   2 consuelo.eaton   0869347314      \n",
       "3   3 mitchel.perkins  fabypotter      \n",
       "4   4 odessa.vaughan   aharney88       \n",
       "5   5 araceli.wilder   acecdn3000      \n",
       "6   6 shawn.harrington 5278049         \n",
       "7   7 evelyn.gay       master          \n",
       "8   8 noreen.hale      murphy          \n",
       "9   9 gladys.ward      lwsves2         \n",
       "10 10 brant.zimmerman  1190KAREN5572497\n",
       "11 11 leanna.abbott    aivlys24        \n",
       "12 12 milford.hubbard  hubbard         "
      ]
     },
     "metadata": {},
     "output_type": "display_data"
    }
   ],
   "source": [
    "# Importing the tidyverse library\n",
    "library(tidyverse)\n",
    "# Loading in datasets/users.csv \n",
    "users <- read_csv(\"datasets/users.csv\")\n",
    "\n",
    "# Counting how many users we've got\n",
    "count(users)\n",
    "\n",
    "# Taking a look at the 12 first users\n",
    "head(users, 12)"
   ]
  },
  {
   "cell_type": "markdown",
   "metadata": {
    "dc": {
     "key": "12"
    },
    "deletable": false,
    "editable": false,
    "run_control": {
     "frozen": true
    },
    "tags": [
     "context"
    ]
   },
   "source": [
    "## 2. Passwords should not be too short\n",
    "<p>If we take a look at the first 12 users above we already see some bad passwords. But let's not get ahead of ourselves and start flagging passwords <em>manually</em>. What is the first thing we should check according to the NIST Special Publication 800-63B?</p>\n",
    "<blockquote>\n",
    "  <p>Verifiers SHALL require subscriber-chosen memorized secrets to be at least 8 characters in length.</p>\n",
    "</blockquote>\n",
    "<p>Ok, so the passwords of our users shouldn't be too short. Let's start by checking that!</p>"
   ]
  },
  {
   "cell_type": "code",
   "execution_count": 170,
   "metadata": {
    "dc": {
     "key": "12"
    },
    "tags": [
     "sample_code"
    ]
   },
   "outputs": [
    {
     "data": {
      "text/html": [
       "376"
      ],
      "text/latex": [
       "376"
      ],
      "text/markdown": [
       "376"
      ],
      "text/plain": [
       "[1] 376"
      ]
     },
     "metadata": {},
     "output_type": "display_data"
    },
    {
     "data": {
      "text/html": [
       "<table>\n",
       "<caption>A tibble: 12 x 5</caption>\n",
       "<thead>\n",
       "\t<tr><th scope=col>id</th><th scope=col>user_name</th><th scope=col>password</th><th scope=col>length</th><th scope=col>too_short</th></tr>\n",
       "\t<tr><th scope=col>&lt;dbl&gt;</th><th scope=col>&lt;chr&gt;</th><th scope=col>&lt;chr&gt;</th><th scope=col>&lt;int&gt;</th><th scope=col>&lt;lgl&gt;</th></tr>\n",
       "</thead>\n",
       "<tbody>\n",
       "\t<tr><td> 1</td><td>vance.jennings  </td><td>joobheco        </td><td> 8</td><td>FALSE</td></tr>\n",
       "\t<tr><td> 2</td><td>consuelo.eaton  </td><td>0869347314      </td><td>10</td><td>FALSE</td></tr>\n",
       "\t<tr><td> 3</td><td>mitchel.perkins </td><td>fabypotter      </td><td>10</td><td>FALSE</td></tr>\n",
       "\t<tr><td> 4</td><td>odessa.vaughan  </td><td>aharney88       </td><td> 9</td><td>FALSE</td></tr>\n",
       "\t<tr><td> 5</td><td>araceli.wilder  </td><td>acecdn3000      </td><td>10</td><td>FALSE</td></tr>\n",
       "\t<tr><td> 6</td><td>shawn.harrington</td><td>5278049         </td><td> 7</td><td> TRUE</td></tr>\n",
       "\t<tr><td> 7</td><td>evelyn.gay      </td><td>master          </td><td> 6</td><td> TRUE</td></tr>\n",
       "\t<tr><td> 8</td><td>noreen.hale     </td><td>murphy          </td><td> 6</td><td> TRUE</td></tr>\n",
       "\t<tr><td> 9</td><td>gladys.ward     </td><td>lwsves2         </td><td> 7</td><td> TRUE</td></tr>\n",
       "\t<tr><td>10</td><td>brant.zimmerman </td><td>1190KAREN5572497</td><td>16</td><td>FALSE</td></tr>\n",
       "\t<tr><td>11</td><td>leanna.abbott   </td><td>aivlys24        </td><td> 8</td><td>FALSE</td></tr>\n",
       "\t<tr><td>12</td><td>milford.hubbard </td><td>hubbard         </td><td> 7</td><td> TRUE</td></tr>\n",
       "</tbody>\n",
       "</table>\n"
      ],
      "text/latex": [
       "A tibble: 12 x 5\n",
       "\\begin{tabular}{r|lllll}\n",
       " id & user\\_name & password & length & too\\_short\\\\\n",
       " <dbl> & <chr> & <chr> & <int> & <lgl>\\\\\n",
       "\\hline\n",
       "\t  1 & vance.jennings   & joobheco         &  8 & FALSE\\\\\n",
       "\t  2 & consuelo.eaton   & 0869347314       & 10 & FALSE\\\\\n",
       "\t  3 & mitchel.perkins  & fabypotter       & 10 & FALSE\\\\\n",
       "\t  4 & odessa.vaughan   & aharney88        &  9 & FALSE\\\\\n",
       "\t  5 & araceli.wilder   & acecdn3000       & 10 & FALSE\\\\\n",
       "\t  6 & shawn.harrington & 5278049          &  7 &  TRUE\\\\\n",
       "\t  7 & evelyn.gay       & master           &  6 &  TRUE\\\\\n",
       "\t  8 & noreen.hale      & murphy           &  6 &  TRUE\\\\\n",
       "\t  9 & gladys.ward      & lwsves2          &  7 &  TRUE\\\\\n",
       "\t 10 & brant.zimmerman  & 1190KAREN5572497 & 16 & FALSE\\\\\n",
       "\t 11 & leanna.abbott    & aivlys24         &  8 & FALSE\\\\\n",
       "\t 12 & milford.hubbard  & hubbard          &  7 &  TRUE\\\\\n",
       "\\end{tabular}\n"
      ],
      "text/markdown": [
       "\n",
       "A tibble: 12 x 5\n",
       "\n",
       "| id &lt;dbl&gt; | user_name &lt;chr&gt; | password &lt;chr&gt; | length &lt;int&gt; | too_short &lt;lgl&gt; |\n",
       "|---|---|---|---|---|\n",
       "|  1 | vance.jennings   | joobheco         |  8 | FALSE |\n",
       "|  2 | consuelo.eaton   | 0869347314       | 10 | FALSE |\n",
       "|  3 | mitchel.perkins  | fabypotter       | 10 | FALSE |\n",
       "|  4 | odessa.vaughan   | aharney88        |  9 | FALSE |\n",
       "|  5 | araceli.wilder   | acecdn3000       | 10 | FALSE |\n",
       "|  6 | shawn.harrington | 5278049          |  7 |  TRUE |\n",
       "|  7 | evelyn.gay       | master           |  6 |  TRUE |\n",
       "|  8 | noreen.hale      | murphy           |  6 |  TRUE |\n",
       "|  9 | gladys.ward      | lwsves2          |  7 |  TRUE |\n",
       "| 10 | brant.zimmerman  | 1190KAREN5572497 | 16 | FALSE |\n",
       "| 11 | leanna.abbott    | aivlys24         |  8 | FALSE |\n",
       "| 12 | milford.hubbard  | hubbard          |  7 |  TRUE |\n",
       "\n"
      ],
      "text/plain": [
       "   id user_name        password         length too_short\n",
       "1   1 vance.jennings   joobheco          8     FALSE    \n",
       "2   2 consuelo.eaton   0869347314       10     FALSE    \n",
       "3   3 mitchel.perkins  fabypotter       10     FALSE    \n",
       "4   4 odessa.vaughan   aharney88         9     FALSE    \n",
       "5   5 araceli.wilder   acecdn3000       10     FALSE    \n",
       "6   6 shawn.harrington 5278049           7      TRUE    \n",
       "7   7 evelyn.gay       master            6      TRUE    \n",
       "8   8 noreen.hale      murphy            6      TRUE    \n",
       "9   9 gladys.ward      lwsves2           7      TRUE    \n",
       "10 10 brant.zimmerman  1190KAREN5572497 16     FALSE    \n",
       "11 11 leanna.abbott    aivlys24          8     FALSE    \n",
       "12 12 milford.hubbard  hubbard           7      TRUE    "
      ]
     },
     "metadata": {},
     "output_type": "display_data"
    }
   ],
   "source": [
    "# Calculating the lengths of users' passwords\n",
    "users$length <- str_length(users$password)\n",
    "\n",
    "# Flagging the users with too short passwords\n",
    "users$too_short <- users$length < 8\n",
    "\n",
    "# Counting the number of users with too short passwords\n",
    "sum(users$too_short)\n",
    "\n",
    "# Taking a look at the 12 first rows\n",
    "head(users, 12)"
   ]
  },
  {
   "cell_type": "markdown",
   "metadata": {
    "dc": {
     "key": "19"
    },
    "deletable": false,
    "editable": false,
    "run_control": {
     "frozen": true
    },
    "tags": [
     "context"
    ]
   },
   "source": [
    "## 3.  Common passwords people use\n",
    "<p>Already this simple rule flagged a couple of offenders among the first 12 users. Next up in Special Publication 800-63B is the rule that</p>\n",
    "<blockquote>\n",
    "  <p>verifiers SHALL compare the prospective secrets against a list that contains values known to be commonly-used, expected, or compromised.</p>\n",
    "  <ul>\n",
    "  <li>Passwords obtained from previous breach corpuses.</li>\n",
    "  <li>Dictionary words.</li>\n",
    "  <li>Repetitive or sequential characters (e.g. ‘aaaaaa’, ‘1234abcd’).</li>\n",
    "  <li>Context-specific words, such as the name of the service, the username, and derivatives thereof.</li>\n",
    "  </ul>\n",
    "</blockquote>\n",
    "<p>We're going to check these in order and start with <em>Passwords obtained from previous breach corpuses</em>, that is, websites where hackers have leaked all the users' passwords. As many websites don't follow the NIST guidelines and encrypt passwords there now exist large lists of the most popular passwords. Let's start by loading in the 10,000 most common passwords which I've taken from <a href=\"https://github.com/danielmiessler/SecLists/tree/master/Passwords\">here</a>.</p>"
   ]
  },
  {
   "cell_type": "code",
   "execution_count": 172,
   "metadata": {
    "dc": {
     "key": "19"
    },
    "tags": [
     "sample_code"
    ]
   },
   "outputs": [
    {
     "data": {
      "text/html": [
       "<ol class=list-inline>\n",
       "\t<li>'123456'</li>\n",
       "\t<li>'password'</li>\n",
       "\t<li>'12345678'</li>\n",
       "\t<li>'qwerty'</li>\n",
       "\t<li>'123456789'</li>\n",
       "\t<li>'12345'</li>\n",
       "</ol>\n"
      ],
      "text/latex": [
       "\\begin{enumerate*}\n",
       "\\item '123456'\n",
       "\\item 'password'\n",
       "\\item '12345678'\n",
       "\\item 'qwerty'\n",
       "\\item '123456789'\n",
       "\\item '12345'\n",
       "\\end{enumerate*}\n"
      ],
      "text/markdown": [
       "1. '123456'\n",
       "2. 'password'\n",
       "3. '12345678'\n",
       "4. 'qwerty'\n",
       "5. '123456789'\n",
       "6. '12345'\n",
       "\n",
       "\n"
      ],
      "text/plain": [
       "[1] \"123456\"    \"password\"  \"12345678\"  \"qwerty\"    \"123456789\" \"12345\"    "
      ]
     },
     "metadata": {},
     "output_type": "display_data"
    }
   ],
   "source": [
    "# Reading in the top 10000 passwords\n",
    "common_passwords <- read_lines(\"datasets/10_million_password_list_top_10000.txt\")\n",
    "\n",
    "# Taking a look at the top 100\n",
    "head(common_passwords)"
   ]
  },
  {
   "cell_type": "markdown",
   "metadata": {
    "dc": {
     "key": "26"
    },
    "deletable": false,
    "editable": false,
    "run_control": {
     "frozen": true
    },
    "tags": [
     "context"
    ]
   },
   "source": [
    "## 4.  Passwords should not be common passwords\n",
    "<p>The list of passwords was ordered, with the most common passwords first, and so we shouldn't be surprised to see passwords like <code>123456</code> and <code>qwerty</code> above. As hackers also have access to this list of common passwords, it's important that none of our users use these passwords!</p>\n",
    "<p>Let's flag all the passwords in our user database that are among the top 10,000 used passwords.</p>"
   ]
  },
  {
   "cell_type": "code",
   "execution_count": 174,
   "metadata": {
    "dc": {
     "key": "26"
    },
    "tags": [
     "sample_code"
    ]
   },
   "outputs": [
    {
     "data": {
      "text/html": [
       "129"
      ],
      "text/latex": [
       "129"
      ],
      "text/markdown": [
       "129"
      ],
      "text/plain": [
       "[1] 129"
      ]
     },
     "metadata": {},
     "output_type": "display_data"
    },
    {
     "data": {
      "text/html": [
       "<ol class=list-inline>\n",
       "\t<li>FALSE</li>\n",
       "\t<li>FALSE</li>\n",
       "\t<li>FALSE</li>\n",
       "\t<li>FALSE</li>\n",
       "\t<li>FALSE</li>\n",
       "\t<li>FALSE</li>\n",
       "\t<li>TRUE</li>\n",
       "\t<li>TRUE</li>\n",
       "\t<li>FALSE</li>\n",
       "\t<li>FALSE</li>\n",
       "\t<li>FALSE</li>\n",
       "\t<li>FALSE</li>\n",
       "</ol>\n"
      ],
      "text/latex": [
       "\\begin{enumerate*}\n",
       "\\item FALSE\n",
       "\\item FALSE\n",
       "\\item FALSE\n",
       "\\item FALSE\n",
       "\\item FALSE\n",
       "\\item FALSE\n",
       "\\item TRUE\n",
       "\\item TRUE\n",
       "\\item FALSE\n",
       "\\item FALSE\n",
       "\\item FALSE\n",
       "\\item FALSE\n",
       "\\end{enumerate*}\n"
      ],
      "text/markdown": [
       "1. FALSE\n",
       "2. FALSE\n",
       "3. FALSE\n",
       "4. FALSE\n",
       "5. FALSE\n",
       "6. FALSE\n",
       "7. TRUE\n",
       "8. TRUE\n",
       "9. FALSE\n",
       "10. FALSE\n",
       "11. FALSE\n",
       "12. FALSE\n",
       "\n",
       "\n"
      ],
      "text/plain": [
       " [1] FALSE FALSE FALSE FALSE FALSE FALSE  TRUE  TRUE FALSE FALSE FALSE FALSE"
      ]
     },
     "metadata": {},
     "output_type": "display_data"
    }
   ],
   "source": [
    "# Flagging the users with passwords that are common passwords\n",
    "users$common_password <- users$password %in% common_passwords\n",
    "\n",
    "# Counting the number of users using common passwords\n",
    "sum(users$common_password)\n",
    "\n",
    "# Taking a look at the 12 first rows\n",
    "head(users$common_password, 12)"
   ]
  },
  {
   "cell_type": "markdown",
   "metadata": {
    "dc": {
     "key": "33"
    },
    "deletable": false,
    "editable": false,
    "run_control": {
     "frozen": true
    },
    "tags": [
     "context"
    ]
   },
   "source": [
    "## 5. Passwords should not be common words\n",
    "<p>Ay ay ay! It turns out many of our users use common passwords, and of the first 12 users there are already two. However, as most common passwords also tend to be short, they were already flagged as being too short. What is the next thing we should check?</p>\n",
    "<blockquote>\n",
    "  <p>Verifiers SHALL compare the prospective secrets against a list that contains […] dictionary words.</p>\n",
    "</blockquote>\n",
    "<p>This follows the same logic as before: It is easy for hackers to check users' passwords against common English words and therefore common English words make bad passwords. Let's check our users' passwords against the top 10,000 English words from <a href=\"https://github.com/first20hours/google-10000-english\">Google's Trillion Word Corpus</a>.</p>"
   ]
  },
  {
   "cell_type": "code",
   "execution_count": 176,
   "metadata": {
    "dc": {
     "key": "33"
    },
    "tags": [
     "sample_code"
    ]
   },
   "outputs": [
    {
     "data": {
      "text/html": [
       "136"
      ],
      "text/latex": [
       "136"
      ],
      "text/markdown": [
       "136"
      ],
      "text/plain": [
       "[1] 136"
      ]
     },
     "metadata": {},
     "output_type": "display_data"
    },
    {
     "data": {
      "text/html": [
       "<ol class=list-inline>\n",
       "\t<li>FALSE</li>\n",
       "\t<li>FALSE</li>\n",
       "\t<li>FALSE</li>\n",
       "\t<li>FALSE</li>\n",
       "\t<li>FALSE</li>\n",
       "\t<li>FALSE</li>\n",
       "\t<li>TRUE</li>\n",
       "\t<li>TRUE</li>\n",
       "\t<li>FALSE</li>\n",
       "\t<li>FALSE</li>\n",
       "\t<li>FALSE</li>\n",
       "\t<li>FALSE</li>\n",
       "</ol>\n"
      ],
      "text/latex": [
       "\\begin{enumerate*}\n",
       "\\item FALSE\n",
       "\\item FALSE\n",
       "\\item FALSE\n",
       "\\item FALSE\n",
       "\\item FALSE\n",
       "\\item FALSE\n",
       "\\item TRUE\n",
       "\\item TRUE\n",
       "\\item FALSE\n",
       "\\item FALSE\n",
       "\\item FALSE\n",
       "\\item FALSE\n",
       "\\end{enumerate*}\n"
      ],
      "text/markdown": [
       "1. FALSE\n",
       "2. FALSE\n",
       "3. FALSE\n",
       "4. FALSE\n",
       "5. FALSE\n",
       "6. FALSE\n",
       "7. TRUE\n",
       "8. TRUE\n",
       "9. FALSE\n",
       "10. FALSE\n",
       "11. FALSE\n",
       "12. FALSE\n",
       "\n",
       "\n"
      ],
      "text/plain": [
       " [1] FALSE FALSE FALSE FALSE FALSE FALSE  TRUE  TRUE FALSE FALSE FALSE FALSE"
      ]
     },
     "metadata": {},
     "output_type": "display_data"
    }
   ],
   "source": [
    "# Reading in a list of the 10000 most common words\n",
    "words <- read_lines(\"datasets/google-10000-english.txt\")\n",
    "\n",
    "# Flagging the users with passwords that are common words\n",
    "users$common_word <- users$password  %in% words \n",
    "\n",
    "# Counting the number of users using common words as passwords\n",
    "sum(users$common_word)\n",
    "\n",
    "# Taking a look at the 12 first rows\n",
    "head(users$common_word, 12)"
   ]
  },
  {
   "cell_type": "markdown",
   "metadata": {
    "dc": {
     "key": "40"
    },
    "deletable": false,
    "editable": false,
    "run_control": {
     "frozen": true
    },
    "tags": [
     "context"
    ]
   },
   "source": [
    "## 6. Passwords should not be your name\n",
    "<p>It turns out many of our passwords were common English words too! Next up on the NIST list:</p>\n",
    "<blockquote>\n",
    "  <p>Verifiers SHALL compare the prospective secrets against a list that contains […] context-specific words, such as the name of the service, the username, and derivatives thereof.</p>\n",
    "</blockquote>\n",
    "<p>Ok, so there are many things we could check here. One thing to notice is that our users' usernames consist of their first names and last names separated by a dot. For now, let's just flag passwords that are the same as either a user's first or last name.</p>"
   ]
  },
  {
   "cell_type": "code",
   "execution_count": 178,
   "metadata": {
    "dc": {
     "key": "40"
    },
    "tags": [
     "sample_code"
    ]
   },
   "outputs": [
    {
     "data": {
      "text/html": [
       "50"
      ],
      "text/latex": [
       "50"
      ],
      "text/markdown": [
       "50"
      ],
      "text/plain": [
       "[1] 50"
      ]
     },
     "metadata": {},
     "output_type": "display_data"
    },
    {
     "data": {
      "text/html": [
       "<table>\n",
       "<caption>A tibble: 12 x 10</caption>\n",
       "<thead>\n",
       "\t<tr><th scope=col>id</th><th scope=col>user_name</th><th scope=col>password</th><th scope=col>length</th><th scope=col>too_short</th><th scope=col>common_password</th><th scope=col>common_word</th><th scope=col>first_name</th><th scope=col>last_name</th><th scope=col>uses_name</th></tr>\n",
       "\t<tr><th scope=col>&lt;dbl&gt;</th><th scope=col>&lt;chr&gt;</th><th scope=col>&lt;chr&gt;</th><th scope=col>&lt;int&gt;</th><th scope=col>&lt;lgl&gt;</th><th scope=col>&lt;lgl&gt;</th><th scope=col>&lt;lgl&gt;</th><th scope=col>&lt;chr&gt;</th><th scope=col>&lt;chr&gt;</th><th scope=col>&lt;lgl&gt;</th></tr>\n",
       "</thead>\n",
       "<tbody>\n",
       "\t<tr><td> 1</td><td>vance.jennings  </td><td>joobheco        </td><td> 8</td><td>FALSE</td><td>FALSE</td><td>FALSE</td><td>vance   </td><td>jennings  </td><td>FALSE</td></tr>\n",
       "\t<tr><td> 2</td><td>consuelo.eaton  </td><td>0869347314      </td><td>10</td><td>FALSE</td><td>FALSE</td><td>FALSE</td><td>consuelo</td><td>eaton     </td><td>FALSE</td></tr>\n",
       "\t<tr><td> 3</td><td>mitchel.perkins </td><td>fabypotter      </td><td>10</td><td>FALSE</td><td>FALSE</td><td>FALSE</td><td>mitchel </td><td>perkins   </td><td>FALSE</td></tr>\n",
       "\t<tr><td> 4</td><td>odessa.vaughan  </td><td>aharney88       </td><td> 9</td><td>FALSE</td><td>FALSE</td><td>FALSE</td><td>odessa  </td><td>vaughan   </td><td>FALSE</td></tr>\n",
       "\t<tr><td> 5</td><td>araceli.wilder  </td><td>acecdn3000      </td><td>10</td><td>FALSE</td><td>FALSE</td><td>FALSE</td><td>araceli </td><td>wilder    </td><td>FALSE</td></tr>\n",
       "\t<tr><td> 6</td><td>shawn.harrington</td><td>5278049         </td><td> 7</td><td> TRUE</td><td>FALSE</td><td>FALSE</td><td>shawn   </td><td>harrington</td><td>FALSE</td></tr>\n",
       "\t<tr><td> 7</td><td>evelyn.gay      </td><td>master          </td><td> 6</td><td> TRUE</td><td> TRUE</td><td> TRUE</td><td>evelyn  </td><td>gay       </td><td>FALSE</td></tr>\n",
       "\t<tr><td> 8</td><td>noreen.hale     </td><td>murphy          </td><td> 6</td><td> TRUE</td><td> TRUE</td><td> TRUE</td><td>noreen  </td><td>hale      </td><td>FALSE</td></tr>\n",
       "\t<tr><td> 9</td><td>gladys.ward     </td><td>lwsves2         </td><td> 7</td><td> TRUE</td><td>FALSE</td><td>FALSE</td><td>gladys  </td><td>ward      </td><td>FALSE</td></tr>\n",
       "\t<tr><td>10</td><td>brant.zimmerman </td><td>1190KAREN5572497</td><td>16</td><td>FALSE</td><td>FALSE</td><td>FALSE</td><td>brant   </td><td>zimmerman </td><td>FALSE</td></tr>\n",
       "\t<tr><td>11</td><td>leanna.abbott   </td><td>aivlys24        </td><td> 8</td><td>FALSE</td><td>FALSE</td><td>FALSE</td><td>leanna  </td><td>abbott    </td><td>FALSE</td></tr>\n",
       "\t<tr><td>12</td><td>milford.hubbard </td><td>hubbard         </td><td> 7</td><td> TRUE</td><td>FALSE</td><td>FALSE</td><td>milford </td><td>hubbard   </td><td> TRUE</td></tr>\n",
       "</tbody>\n",
       "</table>\n"
      ],
      "text/latex": [
       "A tibble: 12 x 10\n",
       "\\begin{tabular}{r|llllllllll}\n",
       " id & user\\_name & password & length & too\\_short & common\\_password & common\\_word & first\\_name & last\\_name & uses\\_name\\\\\n",
       " <dbl> & <chr> & <chr> & <int> & <lgl> & <lgl> & <lgl> & <chr> & <chr> & <lgl>\\\\\n",
       "\\hline\n",
       "\t  1 & vance.jennings   & joobheco         &  8 & FALSE & FALSE & FALSE & vance    & jennings   & FALSE\\\\\n",
       "\t  2 & consuelo.eaton   & 0869347314       & 10 & FALSE & FALSE & FALSE & consuelo & eaton      & FALSE\\\\\n",
       "\t  3 & mitchel.perkins  & fabypotter       & 10 & FALSE & FALSE & FALSE & mitchel  & perkins    & FALSE\\\\\n",
       "\t  4 & odessa.vaughan   & aharney88        &  9 & FALSE & FALSE & FALSE & odessa   & vaughan    & FALSE\\\\\n",
       "\t  5 & araceli.wilder   & acecdn3000       & 10 & FALSE & FALSE & FALSE & araceli  & wilder     & FALSE\\\\\n",
       "\t  6 & shawn.harrington & 5278049          &  7 &  TRUE & FALSE & FALSE & shawn    & harrington & FALSE\\\\\n",
       "\t  7 & evelyn.gay       & master           &  6 &  TRUE &  TRUE &  TRUE & evelyn   & gay        & FALSE\\\\\n",
       "\t  8 & noreen.hale      & murphy           &  6 &  TRUE &  TRUE &  TRUE & noreen   & hale       & FALSE\\\\\n",
       "\t  9 & gladys.ward      & lwsves2          &  7 &  TRUE & FALSE & FALSE & gladys   & ward       & FALSE\\\\\n",
       "\t 10 & brant.zimmerman  & 1190KAREN5572497 & 16 & FALSE & FALSE & FALSE & brant    & zimmerman  & FALSE\\\\\n",
       "\t 11 & leanna.abbott    & aivlys24         &  8 & FALSE & FALSE & FALSE & leanna   & abbott     & FALSE\\\\\n",
       "\t 12 & milford.hubbard  & hubbard          &  7 &  TRUE & FALSE & FALSE & milford  & hubbard    &  TRUE\\\\\n",
       "\\end{tabular}\n"
      ],
      "text/markdown": [
       "\n",
       "A tibble: 12 x 10\n",
       "\n",
       "| id &lt;dbl&gt; | user_name &lt;chr&gt; | password &lt;chr&gt; | length &lt;int&gt; | too_short &lt;lgl&gt; | common_password &lt;lgl&gt; | common_word &lt;lgl&gt; | first_name &lt;chr&gt; | last_name &lt;chr&gt; | uses_name &lt;lgl&gt; |\n",
       "|---|---|---|---|---|---|---|---|---|---|\n",
       "|  1 | vance.jennings   | joobheco         |  8 | FALSE | FALSE | FALSE | vance    | jennings   | FALSE |\n",
       "|  2 | consuelo.eaton   | 0869347314       | 10 | FALSE | FALSE | FALSE | consuelo | eaton      | FALSE |\n",
       "|  3 | mitchel.perkins  | fabypotter       | 10 | FALSE | FALSE | FALSE | mitchel  | perkins    | FALSE |\n",
       "|  4 | odessa.vaughan   | aharney88        |  9 | FALSE | FALSE | FALSE | odessa   | vaughan    | FALSE |\n",
       "|  5 | araceli.wilder   | acecdn3000       | 10 | FALSE | FALSE | FALSE | araceli  | wilder     | FALSE |\n",
       "|  6 | shawn.harrington | 5278049          |  7 |  TRUE | FALSE | FALSE | shawn    | harrington | FALSE |\n",
       "|  7 | evelyn.gay       | master           |  6 |  TRUE |  TRUE |  TRUE | evelyn   | gay        | FALSE |\n",
       "|  8 | noreen.hale      | murphy           |  6 |  TRUE |  TRUE |  TRUE | noreen   | hale       | FALSE |\n",
       "|  9 | gladys.ward      | lwsves2          |  7 |  TRUE | FALSE | FALSE | gladys   | ward       | FALSE |\n",
       "| 10 | brant.zimmerman  | 1190KAREN5572497 | 16 | FALSE | FALSE | FALSE | brant    | zimmerman  | FALSE |\n",
       "| 11 | leanna.abbott    | aivlys24         |  8 | FALSE | FALSE | FALSE | leanna   | abbott     | FALSE |\n",
       "| 12 | milford.hubbard  | hubbard          |  7 |  TRUE | FALSE | FALSE | milford  | hubbard    |  TRUE |\n",
       "\n"
      ],
      "text/plain": [
       "   id user_name        password         length too_short common_password\n",
       "1   1 vance.jennings   joobheco          8     FALSE     FALSE          \n",
       "2   2 consuelo.eaton   0869347314       10     FALSE     FALSE          \n",
       "3   3 mitchel.perkins  fabypotter       10     FALSE     FALSE          \n",
       "4   4 odessa.vaughan   aharney88         9     FALSE     FALSE          \n",
       "5   5 araceli.wilder   acecdn3000       10     FALSE     FALSE          \n",
       "6   6 shawn.harrington 5278049           7      TRUE     FALSE          \n",
       "7   7 evelyn.gay       master            6      TRUE      TRUE          \n",
       "8   8 noreen.hale      murphy            6      TRUE      TRUE          \n",
       "9   9 gladys.ward      lwsves2           7      TRUE     FALSE          \n",
       "10 10 brant.zimmerman  1190KAREN5572497 16     FALSE     FALSE          \n",
       "11 11 leanna.abbott    aivlys24          8     FALSE     FALSE          \n",
       "12 12 milford.hubbard  hubbard           7      TRUE     FALSE          \n",
       "   common_word first_name last_name  uses_name\n",
       "1  FALSE       vance      jennings   FALSE    \n",
       "2  FALSE       consuelo   eaton      FALSE    \n",
       "3  FALSE       mitchel    perkins    FALSE    \n",
       "4  FALSE       odessa     vaughan    FALSE    \n",
       "5  FALSE       araceli    wilder     FALSE    \n",
       "6  FALSE       shawn      harrington FALSE    \n",
       "7   TRUE       evelyn     gay        FALSE    \n",
       "8   TRUE       noreen     hale       FALSE    \n",
       "9  FALSE       gladys     ward       FALSE    \n",
       "10 FALSE       brant      zimmerman  FALSE    \n",
       "11 FALSE       leanna     abbott     FALSE    \n",
       "12 FALSE       milford    hubbard     TRUE    "
      ]
     },
     "metadata": {},
     "output_type": "display_data"
    }
   ],
   "source": [
    "# Extracting first and last names into their own columns\n",
    "users$first_name <- str_extract(users$user_name, \"^\\\\w+\")\n",
    "users$last_name <- str_extract(users$user_name, \"\\\\w+$\")\n",
    "\n",
    "# Flagging the users with passwords that matches their names\n",
    "users$uses_name <- str_to_lower(users$password) == users$first_name |\n",
    "                   str_to_lower(users$password) == users$last_name\n",
    "\n",
    "# Counting the number of users using names as passwords\n",
    "sum(users$uses_name)\n",
    "\n",
    "# Taking a look at the 12 first rows\n",
    "head(users, 12)"
   ]
  },
  {
   "cell_type": "markdown",
   "metadata": {
    "dc": {
     "key": "47"
    },
    "deletable": false,
    "editable": false,
    "run_control": {
     "frozen": true
    },
    "tags": [
     "context"
    ]
   },
   "source": [
    "## 7. Passwords should not be repetitive\n",
    "<p>Milford Hubbard (user number 12 above), what where you thinking!? Ok, so the last thing we are going to check is a bit tricky:</p>\n",
    "<blockquote>\n",
    "  <p>verifiers SHALL compare the prospective secrets [so that they don't contain] repetitive or sequential characters (e.g. ‘aaaaaa’, ‘1234abcd’).</p>\n",
    "</blockquote>\n",
    "<p>This is tricky to check because what is <em>repetitive</em> is hard to define. Is <code>11111</code> repetitive? Yes! Is <code>12345</code> repetitive? Well, kind of. Is <code>13579</code> repetitive? Maybe not..? To check for <em>repetitiveness</em> can be arbitrarily complex, but here we're only going to do something simple. We're going to flag all passwords that contain 4 or more repeated characters.</p>"
   ]
  },
  {
   "cell_type": "code",
   "execution_count": 180,
   "metadata": {
    "dc": {
     "key": "47"
    },
    "tags": [
     "sample_code"
    ]
   },
   "outputs": [
    {
     "data": {
      "text/html": [
       "<table>\n",
       "<caption>A tibble: 6 x 12</caption>\n",
       "<thead>\n",
       "\t<tr><th scope=col>id</th><th scope=col>user_name</th><th scope=col>password</th><th scope=col>length</th><th scope=col>too_short</th><th scope=col>common_password</th><th scope=col>common_word</th><th scope=col>first_name</th><th scope=col>last_name</th><th scope=col>uses_name</th><th scope=col>max_repeats</th><th scope=col>too_many_repeats</th></tr>\n",
       "\t<tr><th scope=col>&lt;dbl&gt;</th><th scope=col>&lt;chr&gt;</th><th scope=col>&lt;chr&gt;</th><th scope=col>&lt;int&gt;</th><th scope=col>&lt;lgl&gt;</th><th scope=col>&lt;lgl&gt;</th><th scope=col>&lt;lgl&gt;</th><th scope=col>&lt;chr&gt;</th><th scope=col>&lt;chr&gt;</th><th scope=col>&lt;lgl&gt;</th><th scope=col>&lt;int&gt;</th><th scope=col>&lt;lgl&gt;</th></tr>\n",
       "</thead>\n",
       "<tbody>\n",
       "\t<tr><td>147</td><td>patti.dixon     </td><td>555555  </td><td>6</td><td> TRUE</td><td> TRUE</td><td>FALSE</td><td>patti   </td><td>dixon   </td><td>FALSE</td><td>6</td><td>TRUE</td></tr>\n",
       "\t<tr><td>573</td><td>cornelia.bradley</td><td>555555  </td><td>6</td><td> TRUE</td><td> TRUE</td><td>FALSE</td><td>cornelia</td><td>bradley </td><td>FALSE</td><td>6</td><td>TRUE</td></tr>\n",
       "\t<tr><td>645</td><td>essie.lopez     </td><td>11111   </td><td>5</td><td> TRUE</td><td> TRUE</td><td>FALSE</td><td>essie   </td><td>lopez   </td><td>FALSE</td><td>5</td><td>TRUE</td></tr>\n",
       "\t<tr><td>799</td><td>charley.key     </td><td>888888  </td><td>6</td><td> TRUE</td><td> TRUE</td><td>FALSE</td><td>charley </td><td>key     </td><td>FALSE</td><td>6</td><td>TRUE</td></tr>\n",
       "\t<tr><td>808</td><td>thurman.osborne </td><td>rinnnng0</td><td>8</td><td>FALSE</td><td>FALSE</td><td>FALSE</td><td>thurman </td><td>osborne </td><td>FALSE</td><td>4</td><td>TRUE</td></tr>\n",
       "\t<tr><td>942</td><td>mitch.ferguson  </td><td>aaaaaa  </td><td>6</td><td> TRUE</td><td> TRUE</td><td>FALSE</td><td>mitch   </td><td>ferguson</td><td>FALSE</td><td>6</td><td>TRUE</td></tr>\n",
       "</tbody>\n",
       "</table>\n"
      ],
      "text/latex": [
       "A tibble: 6 x 12\n",
       "\\begin{tabular}{r|llllllllllll}\n",
       " id & user\\_name & password & length & too\\_short & common\\_password & common\\_word & first\\_name & last\\_name & uses\\_name & max\\_repeats & too\\_many\\_repeats\\\\\n",
       " <dbl> & <chr> & <chr> & <int> & <lgl> & <lgl> & <lgl> & <chr> & <chr> & <lgl> & <int> & <lgl>\\\\\n",
       "\\hline\n",
       "\t 147 & patti.dixon      & 555555   & 6 &  TRUE &  TRUE & FALSE & patti    & dixon    & FALSE & 6 & TRUE\\\\\n",
       "\t 573 & cornelia.bradley & 555555   & 6 &  TRUE &  TRUE & FALSE & cornelia & bradley  & FALSE & 6 & TRUE\\\\\n",
       "\t 645 & essie.lopez      & 11111    & 5 &  TRUE &  TRUE & FALSE & essie    & lopez    & FALSE & 5 & TRUE\\\\\n",
       "\t 799 & charley.key      & 888888   & 6 &  TRUE &  TRUE & FALSE & charley  & key      & FALSE & 6 & TRUE\\\\\n",
       "\t 808 & thurman.osborne  & rinnnng0 & 8 & FALSE & FALSE & FALSE & thurman  & osborne  & FALSE & 4 & TRUE\\\\\n",
       "\t 942 & mitch.ferguson   & aaaaaa   & 6 &  TRUE &  TRUE & FALSE & mitch    & ferguson & FALSE & 6 & TRUE\\\\\n",
       "\\end{tabular}\n"
      ],
      "text/markdown": [
       "\n",
       "A tibble: 6 x 12\n",
       "\n",
       "| id &lt;dbl&gt; | user_name &lt;chr&gt; | password &lt;chr&gt; | length &lt;int&gt; | too_short &lt;lgl&gt; | common_password &lt;lgl&gt; | common_word &lt;lgl&gt; | first_name &lt;chr&gt; | last_name &lt;chr&gt; | uses_name &lt;lgl&gt; | max_repeats &lt;int&gt; | too_many_repeats &lt;lgl&gt; |\n",
       "|---|---|---|---|---|---|---|---|---|---|---|---|\n",
       "| 147 | patti.dixon      | 555555   | 6 |  TRUE |  TRUE | FALSE | patti    | dixon    | FALSE | 6 | TRUE |\n",
       "| 573 | cornelia.bradley | 555555   | 6 |  TRUE |  TRUE | FALSE | cornelia | bradley  | FALSE | 6 | TRUE |\n",
       "| 645 | essie.lopez      | 11111    | 5 |  TRUE |  TRUE | FALSE | essie    | lopez    | FALSE | 5 | TRUE |\n",
       "| 799 | charley.key      | 888888   | 6 |  TRUE |  TRUE | FALSE | charley  | key      | FALSE | 6 | TRUE |\n",
       "| 808 | thurman.osborne  | rinnnng0 | 8 | FALSE | FALSE | FALSE | thurman  | osborne  | FALSE | 4 | TRUE |\n",
       "| 942 | mitch.ferguson   | aaaaaa   | 6 |  TRUE |  TRUE | FALSE | mitch    | ferguson | FALSE | 6 | TRUE |\n",
       "\n"
      ],
      "text/plain": [
       "  id  user_name        password length too_short common_password common_word\n",
       "1 147 patti.dixon      555555   6       TRUE      TRUE           FALSE      \n",
       "2 573 cornelia.bradley 555555   6       TRUE      TRUE           FALSE      \n",
       "3 645 essie.lopez      11111    5       TRUE      TRUE           FALSE      \n",
       "4 799 charley.key      888888   6       TRUE      TRUE           FALSE      \n",
       "5 808 thurman.osborne  rinnnng0 8      FALSE     FALSE           FALSE      \n",
       "6 942 mitch.ferguson   aaaaaa   6       TRUE      TRUE           FALSE      \n",
       "  first_name last_name uses_name max_repeats too_many_repeats\n",
       "1 patti      dixon     FALSE     6           TRUE            \n",
       "2 cornelia   bradley   FALSE     6           TRUE            \n",
       "3 essie      lopez     FALSE     5           TRUE            \n",
       "4 charley    key       FALSE     6           TRUE            \n",
       "5 thurman    osborne   FALSE     4           TRUE            \n",
       "6 mitch      ferguson  FALSE     6           TRUE            "
      ]
     },
     "metadata": {},
     "output_type": "display_data"
    }
   ],
   "source": [
    "# Splitting the passwords into vectors of single characters\n",
    "split_passwords <- str_split(users$password, \"\")\n",
    "\n",
    "# Picking out the max number of repeat characters for each password\n",
    "users$max_repeats <- sapply(split_passwords, function(split_password) {\n",
    "    rle_password <- rle(split_password)\n",
    "    max(rle_password$lengths)\n",
    "})\n",
    "\n",
    "# Flagging the users with passwords with >= 4 repeats\n",
    "users$too_many_repeats <- users$max_repeats >= 4\n",
    "\n",
    "# Taking a look at the users with too many repeats\n",
    "users[users$too_many_repeats,]"
   ]
  },
  {
   "cell_type": "markdown",
   "metadata": {
    "dc": {
     "key": "54"
    },
    "deletable": false,
    "editable": false,
    "run_control": {
     "frozen": true
    },
    "tags": [
     "context"
    ]
   },
   "source": [
    "## 8. All together now!\n",
    "<p>Now we have implemented all the basic tests for bad passwords suggested by NIST Special Publication 800-63B! What's left is just to flag all bad passwords and maybe to send these users an e-mail that strongly suggests they change their password.</p>"
   ]
  },
  {
   "cell_type": "code",
   "execution_count": 182,
   "metadata": {
    "dc": {
     "key": "54"
    },
    "tags": [
     "sample_code"
    ]
   },
   "outputs": [
    {
     "data": {
      "text/html": [
       "424"
      ],
      "text/latex": [
       "424"
      ],
      "text/markdown": [
       "424"
      ],
      "text/plain": [
       "[1] 424"
      ]
     },
     "metadata": {},
     "output_type": "display_data"
    },
    {
     "data": {
      "text/html": [
       "<ol class=list-inline>\n",
       "\t<li>'5278049'</li>\n",
       "\t<li>'master'</li>\n",
       "\t<li>'murphy'</li>\n",
       "\t<li>'lwsves2'</li>\n",
       "\t<li>'hubbard'</li>\n",
       "\t<li>'310356'</li>\n",
       "\t<li>'oZ4k0QE'</li>\n",
       "\t<li>'chelsea'</li>\n",
       "\t<li>'zvc1939'</li>\n",
       "\t<li>'nickgd'</li>\n",
       "\t<li>'cocacola'</li>\n",
       "\t<li>'woodard'</li>\n",
       "\t<li>'AJ9Da'</li>\n",
       "\t<li>'ewokzs'</li>\n",
       "\t<li>'YyGjz8E'</li>\n",
       "\t<li>'reid'</li>\n",
       "\t<li>'jOYZBs8'</li>\n",
       "\t<li>'wwewwf1'</li>\n",
       "\t<li>'225377'</li>\n",
       "\t<li>'NdZ7E6'</li>\n",
       "\t<li>'CQB3Z'</li>\n",
       "\t<li>'diffo'</li>\n",
       "\t<li>'123456789'</li>\n",
       "\t<li>'y8uM7D6'</li>\n",
       "\t<li>'mikeloo'</li>\n",
       "\t<li>'golden'</li>\n",
       "\t<li>'apr2502'</li>\n",
       "\t<li>'jfasii'</li>\n",
       "\t<li>'sanaang'</li>\n",
       "\t<li>'jecarn'</li>\n",
       "\t<li>'dakami'</li>\n",
       "\t<li>'thx1138'</li>\n",
       "\t<li>'midnight'</li>\n",
       "\t<li>'7xFHcdy'</li>\n",
       "\t<li>'dorian'</li>\n",
       "\t<li>'2458098'</li>\n",
       "\t<li>'hurley'</li>\n",
       "\t<li>'UYHUGG'</li>\n",
       "\t<li>'wishes'</li>\n",
       "\t<li>'jake145'</li>\n",
       "\t<li>'Oli#2b'</li>\n",
       "\t<li>'monkey'</li>\n",
       "\t<li>'shy!'</li>\n",
       "\t<li>'chifito'</li>\n",
       "\t<li>'123ASH'</li>\n",
       "\t<li>'juliette'</li>\n",
       "\t<li>'kokjoon'</li>\n",
       "\t<li>'crystal'</li>\n",
       "\t<li>'scanner'</li>\n",
       "\t<li>'andrew'</li>\n",
       "\t<li>'caleb'</li>\n",
       "\t<li>'dreker'</li>\n",
       "\t<li>'h3ZFd'</li>\n",
       "\t<li>'replaced'</li>\n",
       "\t<li>'buster'</li>\n",
       "\t<li>'nu'</li>\n",
       "\t<li>'ware'</li>\n",
       "\t<li>'46ofus'</li>\n",
       "\t<li>'rr55367'</li>\n",
       "\t<li>'fastman'</li>\n",
       "\t<li>'biodiversity'</li>\n",
       "\t<li>'555555'</li>\n",
       "\t<li>'lara'</li>\n",
       "\t<li>'9786435'</li>\n",
       "\t<li>'roland'</li>\n",
       "\t<li>'gokuass'</li>\n",
       "\t<li>'ov0moh'</li>\n",
       "\t<li>'stefan'</li>\n",
       "\t<li>'9812684'</li>\n",
       "\t<li>'TIRO02'</li>\n",
       "\t<li>'dixie'</li>\n",
       "\t<li>'gtapbt'</li>\n",
       "\t<li>'123654'</li>\n",
       "\t<li>'1036900'</li>\n",
       "\t<li>'flavor'</li>\n",
       "\t<li>'FGPb9gX'</li>\n",
       "\t<li>'vHO2y'</li>\n",
       "\t<li>'precise'</li>\n",
       "\t<li>'190664'</li>\n",
       "\t<li>'4f3aRNG'</li>\n",
       "\t<li>'austin'</li>\n",
       "\t<li>'jtc123'</li>\n",
       "\t<li>'eLvtn'</li>\n",
       "\t<li>'122412'</li>\n",
       "\t<li>'8309113'</li>\n",
       "\t<li>'dillard'</li>\n",
       "\t<li>'william'</li>\n",
       "\t<li>'NCAA50'</li>\n",
       "\t<li>'4101516'</li>\n",
       "\t<li>'leyvi'</li>\n",
       "\t<li>'ancan'</li>\n",
       "\t<li>'blake'</li>\n",
       "\t<li>'tdutza'</li>\n",
       "\t<li>'framework'</li>\n",
       "\t<li>'golfer'</li>\n",
       "\t<li>'winter'</li>\n",
       "\t<li>'groan1'</li>\n",
       "\t<li>'pharmacology'</li>\n",
       "\t<li>'bs4519'</li>\n",
       "\t<li>'prince'</li>\n",
       "</ol>\n"
      ],
      "text/latex": [
       "\\begin{enumerate*}\n",
       "\\item '5278049'\n",
       "\\item 'master'\n",
       "\\item 'murphy'\n",
       "\\item 'lwsves2'\n",
       "\\item 'hubbard'\n",
       "\\item '310356'\n",
       "\\item 'oZ4k0QE'\n",
       "\\item 'chelsea'\n",
       "\\item 'zvc1939'\n",
       "\\item 'nickgd'\n",
       "\\item 'cocacola'\n",
       "\\item 'woodard'\n",
       "\\item 'AJ9Da'\n",
       "\\item 'ewokzs'\n",
       "\\item 'YyGjz8E'\n",
       "\\item 'reid'\n",
       "\\item 'jOYZBs8'\n",
       "\\item 'wwewwf1'\n",
       "\\item '225377'\n",
       "\\item 'NdZ7E6'\n",
       "\\item 'CQB3Z'\n",
       "\\item 'diffo'\n",
       "\\item '123456789'\n",
       "\\item 'y8uM7D6'\n",
       "\\item 'mikeloo'\n",
       "\\item 'golden'\n",
       "\\item 'apr2502'\n",
       "\\item 'jfasii'\n",
       "\\item 'sanaang'\n",
       "\\item 'jecarn'\n",
       "\\item 'dakami'\n",
       "\\item 'thx1138'\n",
       "\\item 'midnight'\n",
       "\\item '7xFHcdy'\n",
       "\\item 'dorian'\n",
       "\\item '2458098'\n",
       "\\item 'hurley'\n",
       "\\item 'UYHUGG'\n",
       "\\item 'wishes'\n",
       "\\item 'jake145'\n",
       "\\item 'Oli\\#2b'\n",
       "\\item 'monkey'\n",
       "\\item 'shy!'\n",
       "\\item 'chifito'\n",
       "\\item '123ASH'\n",
       "\\item 'juliette'\n",
       "\\item 'kokjoon'\n",
       "\\item 'crystal'\n",
       "\\item 'scanner'\n",
       "\\item 'andrew'\n",
       "\\item 'caleb'\n",
       "\\item 'dreker'\n",
       "\\item 'h3ZFd'\n",
       "\\item 'replaced'\n",
       "\\item 'buster'\n",
       "\\item 'nu'\n",
       "\\item 'ware'\n",
       "\\item '46ofus'\n",
       "\\item 'rr55367'\n",
       "\\item 'fastman'\n",
       "\\item 'biodiversity'\n",
       "\\item '555555'\n",
       "\\item 'lara'\n",
       "\\item '9786435'\n",
       "\\item 'roland'\n",
       "\\item 'gokuass'\n",
       "\\item 'ov0moh'\n",
       "\\item 'stefan'\n",
       "\\item '9812684'\n",
       "\\item 'TIRO02'\n",
       "\\item 'dixie'\n",
       "\\item 'gtapbt'\n",
       "\\item '123654'\n",
       "\\item '1036900'\n",
       "\\item 'flavor'\n",
       "\\item 'FGPb9gX'\n",
       "\\item 'vHO2y'\n",
       "\\item 'precise'\n",
       "\\item '190664'\n",
       "\\item '4f3aRNG'\n",
       "\\item 'austin'\n",
       "\\item 'jtc123'\n",
       "\\item 'eLvtn'\n",
       "\\item '122412'\n",
       "\\item '8309113'\n",
       "\\item 'dillard'\n",
       "\\item 'william'\n",
       "\\item 'NCAA50'\n",
       "\\item '4101516'\n",
       "\\item 'leyvi'\n",
       "\\item 'ancan'\n",
       "\\item 'blake'\n",
       "\\item 'tdutza'\n",
       "\\item 'framework'\n",
       "\\item 'golfer'\n",
       "\\item 'winter'\n",
       "\\item 'groan1'\n",
       "\\item 'pharmacology'\n",
       "\\item 'bs4519'\n",
       "\\item 'prince'\n",
       "\\end{enumerate*}\n"
      ],
      "text/markdown": [
       "1. '5278049'\n",
       "2. 'master'\n",
       "3. 'murphy'\n",
       "4. 'lwsves2'\n",
       "5. 'hubbard'\n",
       "6. '310356'\n",
       "7. 'oZ4k0QE'\n",
       "8. 'chelsea'\n",
       "9. 'zvc1939'\n",
       "10. 'nickgd'\n",
       "11. 'cocacola'\n",
       "12. 'woodard'\n",
       "13. 'AJ9Da'\n",
       "14. 'ewokzs'\n",
       "15. 'YyGjz8E'\n",
       "16. 'reid'\n",
       "17. 'jOYZBs8'\n",
       "18. 'wwewwf1'\n",
       "19. '225377'\n",
       "20. 'NdZ7E6'\n",
       "21. 'CQB3Z'\n",
       "22. 'diffo'\n",
       "23. '123456789'\n",
       "24. 'y8uM7D6'\n",
       "25. 'mikeloo'\n",
       "26. 'golden'\n",
       "27. 'apr2502'\n",
       "28. 'jfasii'\n",
       "29. 'sanaang'\n",
       "30. 'jecarn'\n",
       "31. 'dakami'\n",
       "32. 'thx1138'\n",
       "33. 'midnight'\n",
       "34. '7xFHcdy'\n",
       "35. 'dorian'\n",
       "36. '2458098'\n",
       "37. 'hurley'\n",
       "38. 'UYHUGG'\n",
       "39. 'wishes'\n",
       "40. 'jake145'\n",
       "41. 'Oli#2b'\n",
       "42. 'monkey'\n",
       "43. 'shy!'\n",
       "44. 'chifito'\n",
       "45. '123ASH'\n",
       "46. 'juliette'\n",
       "47. 'kokjoon'\n",
       "48. 'crystal'\n",
       "49. 'scanner'\n",
       "50. 'andrew'\n",
       "51. 'caleb'\n",
       "52. 'dreker'\n",
       "53. 'h3ZFd'\n",
       "54. 'replaced'\n",
       "55. 'buster'\n",
       "56. 'nu'\n",
       "57. 'ware'\n",
       "58. '46ofus'\n",
       "59. 'rr55367'\n",
       "60. 'fastman'\n",
       "61. 'biodiversity'\n",
       "62. '555555'\n",
       "63. 'lara'\n",
       "64. '9786435'\n",
       "65. 'roland'\n",
       "66. 'gokuass'\n",
       "67. 'ov0moh'\n",
       "68. 'stefan'\n",
       "69. '9812684'\n",
       "70. 'TIRO02'\n",
       "71. 'dixie'\n",
       "72. 'gtapbt'\n",
       "73. '123654'\n",
       "74. '1036900'\n",
       "75. 'flavor'\n",
       "76. 'FGPb9gX'\n",
       "77. 'vHO2y'\n",
       "78. 'precise'\n",
       "79. '190664'\n",
       "80. '4f3aRNG'\n",
       "81. 'austin'\n",
       "82. 'jtc123'\n",
       "83. 'eLvtn'\n",
       "84. '122412'\n",
       "85. '8309113'\n",
       "86. 'dillard'\n",
       "87. 'william'\n",
       "88. 'NCAA50'\n",
       "89. '4101516'\n",
       "90. 'leyvi'\n",
       "91. 'ancan'\n",
       "92. 'blake'\n",
       "93. 'tdutza'\n",
       "94. 'framework'\n",
       "95. 'golfer'\n",
       "96. 'winter'\n",
       "97. 'groan1'\n",
       "98. 'pharmacology'\n",
       "99. 'bs4519'\n",
       "100. 'prince'\n",
       "\n",
       "\n"
      ],
      "text/plain": [
       "  [1] \"5278049\"      \"master\"       \"murphy\"       \"lwsves2\"      \"hubbard\"     \n",
       "  [6] \"310356\"       \"oZ4k0QE\"      \"chelsea\"      \"zvc1939\"      \"nickgd\"      \n",
       " [11] \"cocacola\"     \"woodard\"      \"AJ9Da\"        \"ewokzs\"       \"YyGjz8E\"     \n",
       " [16] \"reid\"         \"jOYZBs8\"      \"wwewwf1\"      \"225377\"       \"NdZ7E6\"      \n",
       " [21] \"CQB3Z\"        \"diffo\"        \"123456789\"    \"y8uM7D6\"      \"mikeloo\"     \n",
       " [26] \"golden\"       \"apr2502\"      \"jfasii\"       \"sanaang\"      \"jecarn\"      \n",
       " [31] \"dakami\"       \"thx1138\"      \"midnight\"     \"7xFHcdy\"      \"dorian\"      \n",
       " [36] \"2458098\"      \"hurley\"       \"UYHUGG\"       \"wishes\"       \"jake145\"     \n",
       " [41] \"Oli#2b\"       \"monkey\"       \"shy!\"         \"chifito\"      \"123ASH\"      \n",
       " [46] \"juliette\"     \"kokjoon\"      \"crystal\"      \"scanner\"      \"andrew\"      \n",
       " [51] \"caleb\"        \"dreker\"       \"h3ZFd\"        \"replaced\"     \"buster\"      \n",
       " [56] \"nu\"           \"ware\"         \"46ofus\"       \"rr55367\"      \"fastman\"     \n",
       " [61] \"biodiversity\" \"555555\"       \"lara\"         \"9786435\"      \"roland\"      \n",
       " [66] \"gokuass\"      \"ov0moh\"       \"stefan\"       \"9812684\"      \"TIRO02\"      \n",
       " [71] \"dixie\"        \"gtapbt\"       \"123654\"       \"1036900\"      \"flavor\"      \n",
       " [76] \"FGPb9gX\"      \"vHO2y\"        \"precise\"      \"190664\"       \"4f3aRNG\"     \n",
       " [81] \"austin\"       \"jtc123\"       \"eLvtn\"        \"122412\"       \"8309113\"     \n",
       " [86] \"dillard\"      \"william\"      \"NCAA50\"       \"4101516\"      \"leyvi\"       \n",
       " [91] \"ancan\"        \"blake\"        \"tdutza\"       \"framework\"    \"golfer\"      \n",
       " [96] \"winter\"       \"groan1\"       \"pharmacology\" \"bs4519\"       \"prince\"      "
      ]
     },
     "metadata": {},
     "output_type": "display_data"
    }
   ],
   "source": [
    "# Flagging all passwords that are bad\n",
    "users$bad_password <- users$too_short | \n",
    "                      users$common_password |\n",
    "                      users$common_word |\n",
    "                      users$uses_name |\n",
    "                      users$too_many_repeats\n",
    "\n",
    "# Counting the number of bad passwords\n",
    "sum(users$bad_password)\n",
    "\n",
    "# Looking at the first 100 bad passwords\n",
    "head(users$password[users$bad_password], 100)"
   ]
  },
  {
   "cell_type": "markdown",
   "metadata": {
    "dc": {
     "key": "61"
    },
    "deletable": false,
    "editable": false,
    "run_control": {
     "frozen": true
    },
    "tags": [
     "context"
    ]
   },
   "source": [
    "## 9. Otherwise, the password should be up to the user\n",
    "<p>In this notebook, we've implemented the password checks recommended by the NIST Special Publication 800-63B. It's certainly possible to better implement these checks, for example, by using a longer list of common passwords. Also note that the NIST checks in no way guarantee that a chosen password is good, just that it's not obviously bad.</p>\n",
    "<p>Apart from the checks we've implemented above the NIST is also clear with what password rules should <em>not</em> be imposed:</p>\n",
    "<blockquote>\n",
    "  <p>Verifiers SHOULD NOT impose other composition rules (e.g., requiring mixtures of different character types or prohibiting consecutively repeated characters) for memorized secrets. Verifiers SHOULD NOT require memorized secrets to be changed arbitrarily (e.g., periodically).</p>\n",
    "</blockquote>\n",
    "<p>So the next time a website or app tells you to \"include both a number, symbol and an upper and lower case character in your password\" you should send them a copy of <a href=\"https://pages.nist.gov/800-63-3/sp800-63b.html\">NIST Special Publication 800-63B</a>.</p>"
   ]
  },
  {
   "cell_type": "code",
   "execution_count": 184,
   "metadata": {
    "collapsed": true,
    "dc": {
     "key": "61"
    },
    "tags": [
     "sample_code"
    ]
   },
   "outputs": [],
   "source": [
    "# Enter a password that passes the NIST requirements\n",
    "# PLEASE DO NOT USE AN EXISTING PASSWORD HERE\n",
    "new_password <- \"greedyhorsedrafts42plays\""
   ]
  }
 ],
 "metadata": {
  "kernelspec": {
   "display_name": "Python 3",
   "language": "python",
   "name": "python3"
  },
  "language_info": {
   "codemirror_mode": {
    "name": "ipython",
    "version": 3
   },
   "file_extension": ".py",
   "mimetype": "text/x-python",
   "name": "python",
   "nbconvert_exporter": "python",
   "pygments_lexer": "ipython3",
   "version": "3.7.6"
  }
 },
 "nbformat": 4,
 "nbformat_minor": 2
}
